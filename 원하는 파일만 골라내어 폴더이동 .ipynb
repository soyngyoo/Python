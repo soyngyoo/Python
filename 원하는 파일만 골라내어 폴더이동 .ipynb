{
 "cells": [
  {
   "cell_type": "markdown",
   "metadata": {},
   "source": [
    "# 원하는 파일 고르기, 폴더 이동\n",
    "\n",
    "Step 파일을 해석하고 나면 out 파일이 생성되는데 \n",
    "해석이 안된 파일은 out 파일이 생성되지 않음.\n",
    "\n",
    "해석이 안된 파일만 골라내서 재 해석해야할 폴더로 파일 이동"
   ]
  },
  {
   "cell_type": "code",
   "execution_count": 44,
   "metadata": {},
   "outputs": [],
   "source": [
    "import os,shutil\n",
    "import numpy as np"
   ]
  },
  {
   "cell_type": "code",
   "execution_count": 42,
   "metadata": {},
   "outputs": [],
   "source": [
    "\n",
    "step_path = 'D:/Desktop/project/sample/gd_step/'\n",
    "out_path = 'D:/Desktop/project/sample/gd_out/'\n",
    "redo_path = 'D:/Desktop/project/sample/gd_step_redo/'\n",
    "\n",
    "step_files = os.listdir(step_path)\n",
    "out_files = os.listdir(out_path)\n",
    "redo_files = os.listdir(redo_path)\n"
   ]
  },
  {
   "cell_type": "code",
   "execution_count": 89,
   "metadata": {},
   "outputs": [],
   "source": [
    "step,out = [],[]\n",
    "for s_file in step_files:\n",
    "    step_split = s_file[:-5].split('_')\n",
    "    step.append(int(step_split[1]))\n",
    "for o_file in out_files:\n",
    "    out_split = o_file[:-5].split('_')\n",
    "    out.append(int(out_split[1]))"
   ]
  },
  {
   "cell_type": "code",
   "execution_count": 91,
   "metadata": {
    "scrolled": true
   },
   "outputs": [],
   "source": [
    "step2 = step\n",
    "#step 파일리스트를 step2로 복제 합니다. \n",
    "\n",
    "for o in out:\n",
    "\n",
    "    step2.remove(step[step.index(o)])\n",
    "    #print(len(step2))\n",
    "    ''' out 폴더에 있는 파일에 해당하는 step 파일의 인덱스를 구해서 step 파일명을 호출해서\n",
    "    step2 파일목록을 삭제합니다.'''\n",
    "    "
   ]
  },
  {
   "cell_type": "code",
   "execution_count": 46,
   "metadata": {},
   "outputs": [],
   "source": [
    "# 해당하는 파일 만 redo(다시할 폴더)로 copy하기 \n",
    "for i in range(len(step2)):\n",
    "    name = 'gd_'+str(step2[i])+'.step'\n",
    "    shutil.copy(step_path+name,redo_path+name)"
   ]
  }
 ],
 "metadata": {
  "kernelspec": {
   "display_name": "Python 3",
   "language": "python",
   "name": "python3"
  },
  "language_info": {
   "codemirror_mode": {
    "name": "ipython",
    "version": 3
   },
   "file_extension": ".py",
   "mimetype": "text/x-python",
   "name": "python",
   "nbconvert_exporter": "python",
   "pygments_lexer": "ipython3",
   "version": "3.7.3"
  }
 },
 "nbformat": 4,
 "nbformat_minor": 2
}
