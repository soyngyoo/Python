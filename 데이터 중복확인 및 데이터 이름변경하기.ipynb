{
 "cells": [
  {
   "cell_type": "code",
   "execution_count": 57,
   "metadata": {},
   "outputs": [],
   "source": [
    "import os\n",
    "import pandas as pd\n",
    "import numpy as np\n",
    "import time"
   ]
  },
  {
   "cell_type": "markdown",
   "metadata": {},
   "source": [
    "# 파일리스트 불러오기"
   ]
  },
  {
   "cell_type": "code",
   "execution_count": 170,
   "metadata": {},
   "outputs": [],
   "source": [
    "src = 'C:/Users/soyou/Documents/parts_step/'\n",
    "files = os.listdir(src)"
   ]
  },
  {
   "cell_type": "code",
   "execution_count": 234,
   "metadata": {
    "scrolled": true
   },
   "outputs": [],
   "source": [
    "files_ = [] \n",
    "for file in files:\n",
    "    name = file[:-4].split('_')[0]\n",
    "    #print(name)\n",
    "    files_.append(name)\n",
    "\n",
    "files = files_"
   ]
  },
  {
   "cell_type": "markdown",
   "metadata": {},
   "source": [
    "# csv 파일불러오기"
   ]
  },
  {
   "cell_type": "code",
   "execution_count": 182,
   "metadata": {},
   "outputs": [],
   "source": [
    "src_csv = 'C:/Users/soyou/Documents/'\n",
    "csv_test = pd.read_csv(src_csv+'MyParts_.csv',encoding='euc-kr')"
   ]
  },
  {
   "cell_type": "markdown",
   "metadata": {},
   "source": [
    "# 수집한 데이터 중복데이터 찾기 및 차집합 구하기\n",
    "\n",
    "* 차집합 시 배열 길이가 같아야 한다"
   ]
  },
  {
   "cell_type": "code",
   "execution_count": 275,
   "metadata": {},
   "outputs": [
    {
     "name": "stdout",
     "output_type": "stream",
     "text": [
      "<class 'list'>\n",
      "overlab: 5\n",
      "['BA1528', 'BASKSS6-150', 'MCPRF20', 'FRNWC16', 'JPGTS20-P15-L40-B30']\n"
     ]
    }
   ],
   "source": [
    "csv = np.array(csv_test[[\"name\"]])\n",
    "csv_list = csv.tolist()\n",
    "print(type(csv_list))\n",
    "\n",
    "# 이차원 리스트 일차원 리스트로 변환\n",
    "csv_1d = [y for x in csv_list for y in x]\n",
    "      \n",
    "# 중복요소 제거하기\n",
    "csv_rm_ovlp = list(set(csv_1d)) # set으로 변환 하면 중복요인이 제거됨\n",
    "\n",
    "# 중복요소 개수 확인\n",
    "print('overlab:',len(csv_1d)-len(csv_rm_ovlp))\n",
    "\n",
    "temp = csv_1d \n",
    "\n",
    "for i in csv_rm_ovlp:\n",
    "    rm = csv_1d[csv_1d.index(i)]\n",
    "    # 리스트 원소 삭제 \n",
    "    temp.remove(rm)\n",
    "\n",
    "# 중복된 원소 확인\n",
    "print(temp)"
   ]
  },
  {
   "cell_type": "code",
   "execution_count": 278,
   "metadata": {},
   "outputs": [
    {
     "name": "stdout",
     "output_type": "stream",
     "text": [
      "['ABETA24-160-30' 'ABETA24-160-50' 'ABETA24-280-30' ... 'WEJELS20A'\n",
      " 'WEJTS25A' 'WSC25.4']\n"
     ]
    }
   ],
   "source": [
    "diff = np.setdiff1d(csv,files)\n",
    "print(diff)"
   ]
  },
  {
   "cell_type": "markdown",
   "metadata": {},
   "source": [
    "# 파일명 바꾸기\n"
   ]
  },
  {
   "cell_type": "code",
   "execution_count": null,
   "metadata": {
    "scrolled": true
   },
   "outputs": [],
   "source": [
    "src = 'C:/Users/soyou/Documents/parts_step/'\n",
    "files = os.listdir(src)\n",
    "\n",
    "count = 0 \n",
    "for file in files:\n",
    "    temp_ = file[:-4]\n",
    "\n",
    "    name = temp_.split('_')[0]\n",
    "\n",
    "    if temp_ != name:\n",
    "        count +=1\n",
    "        print(src+file,'----->',src+name+'.zip')\n",
    "        os.rename(src+file,src+name+'.zip')\n",
    "        time.sleep(0.2)\n",
    "\n",
    "    else:\n",
    "        #print('pass')\n",
    "        pass"
   ]
  }
 ],
 "metadata": {
  "kernelspec": {
   "display_name": "Python 3",
   "language": "python",
   "name": "python3"
  },
  "language_info": {
   "codemirror_mode": {
    "name": "ipython",
    "version": 3
   },
   "file_extension": ".py",
   "mimetype": "text/x-python",
   "name": "python",
   "nbconvert_exporter": "python",
   "pygments_lexer": "ipython3",
   "version": "3.5.6"
  }
 },
 "nbformat": 4,
 "nbformat_minor": 4
}
