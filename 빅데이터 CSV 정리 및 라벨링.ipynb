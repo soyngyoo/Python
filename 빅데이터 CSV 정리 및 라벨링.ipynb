{
 "cells": [
  {
   "cell_type": "code",
   "execution_count": null,
   "metadata": {},
   "outputs": [],
   "source": [
    "import numpy as np\n",
    "import pandas as pd\n",
    "import random,os,csv\n",
    "import math\n",
    "import numpy as np\n",
    "import scipy.io\n",
    "import cv2 as cv\n",
    "from matplotlib import pyplot as plt\n",
    "from IPython.display import display\n"
   ]
  },
  {
   "cell_type": "code",
   "execution_count": null,
   "metadata": {},
   "outputs": [],
   "source": [
    "src_csv = 'C:/Users/soyou/Documents/gd_csv_out/gd_csv_out/'\n",
    "src_img = 'C:/Users/soyou/Documents/gd_aa_resize_128/gd_aa_resize_128/'\n",
    "dst_csv = 'C:/Users/soyou/Documents/gd_csv_out/gd_csv_out_out/'\n",
    "dst_img = 'C:/Users/soyou/Documents/gd_aa_resize_128/gd_aa_resize_128_out/'\n",
    "files_csv = os.listdir(src_csv)\n",
    "files_img = os.listdir(src_img)\n",
    "#files_gd_aa2 = os.listdir(src_gd_aa2)"
   ]
  },
  {
   "cell_type": "markdown",
   "metadata": {},
   "source": [
    "## 512x512 이미지 크기 축소 (--> 128X128)\n",
    "ㅇ 입력 X 로 들어갈 이미지가 128이미지이기 때문에 한번 보정한 이미지(512)를 128사이즈로 축소 시킵니다. "
   ]
  },
  {
   "cell_type": "code",
   "execution_count": null,
   "metadata": {},
   "outputs": [],
   "source": [
    "def OpenCV_plot(src,file):\n",
    "    img = cv.imread(src+file,cv.COLOR_BGR2GRAY)\n",
    "    plt.imshow(img)\n",
    "    plt.xticks([]) # x축 눈금\n",
    "    plt.yticks([]) # y축 눈금\n",
    "    plt.show()\n",
    "    \n",
    "    \n",
    "def OpenCV_resize(src,file,width,height):\n",
    "    img = cv.imread(src+file,cv.COLOR_BGR2GRAY)\n",
    "    img_resize = cv.resize(img,(width,height))\n",
    "    print(img_resize.shape)\n",
    "    \n",
    "    return img_resize\n",
    "\n",
    "def OpenCV_write(dst,file,img):\n",
    "    cv.imwrite(dst+file,img,[cv.IMWRITE_JPEG_QUALITY,100])\n",
    "    print('save shape of image:',img.shape)\n",
    "    print('save!:', dst+file)\n",
    "    "
   ]
  },
  {
   "cell_type": "code",
   "execution_count": null,
   "metadata": {
    "scrolled": false
   },
   "outputs": [],
   "source": [
    "img = cv.imread(src_gd_aa2+files_gd_aa2[0],cv.COLOR_BGR2GRAY)\n",
    "\n",
    "for i in range(len(files_gd_aa2 )):\n",
    "    OpenCV_plot(src_gd_aa2,files_gd_aa2[i])\n",
    "    img_resize = OpenCV_resize(src_gd_aa2, files_gd_aa2[i],128,128)\n",
    "    #OpenCV_write(dst, files_gd_aa2[i],img_resize)"
   ]
  },
  {
   "cell_type": "markdown",
   "metadata": {},
   "source": [
    "## CSV 데이터 정리 \n",
    "\n",
    "ㅇ 해당내용을 리스트에 정리하는 과정입니다. "
   ]
  },
  {
   "cell_type": "code",
   "execution_count": null,
   "metadata": {},
   "outputs": [],
   "source": [
    "files_num =[]\n",
    "for i in range(len(files_csv)):\n",
    "    files_num.append(int(files_csv[i].split('_')[1]))\n",
    "#오름차순 정렬 \n",
    "files_num_sorted =sorted(files_num)"
   ]
  },
  {
   "cell_type": "code",
   "execution_count": null,
   "metadata": {},
   "outputs": [],
   "source": [
    "temp_ = [[] for i in range(len(files_csv))]\n",
    "\n",
    "n = 0\n",
    "for i in files_num_sorted:\n",
    "    file = files_csv[files_csv.index('gd_'+str(i)+'_output.csv')]\n",
    "    with open(src_csv+file, newline='', encoding='utf-8') as f:\n",
    "        reader = csv.reader(f)\n",
    "        for row in reader:\n",
    "            temp_[n].append(row)\n",
    "        n +=1\n"
   ]
  },
  {
   "cell_type": "code",
   "execution_count": null,
   "metadata": {},
   "outputs": [],
   "source": [
    "name,volume,mass = [],[],[]\n",
    "\n",
    "for i in range(len(files_csv)):\n",
    "    for j in range(3):\n",
    "        if j == 0:\n",
    "            name.append(temp_[i][j][1])   \n",
    "        elif j == 1:\n",
    "            volume.append(temp_[i][j][1])        \n",
    "        elif j == 2:\n",
    "            mass.append(temp_[i][j][1])"
   ]
  },
  {
   "cell_type": "code",
   "execution_count": null,
   "metadata": {},
   "outputs": [],
   "source": [
    "#특정문자 지우기 \n",
    "for i in range(len(mass)):\n",
    "    mass[i]=mass[i].strip('\\n.')\n",
    "    name[i]=name[i].strip('_output')"
   ]
  },
  {
   "cell_type": "code",
   "execution_count": null,
   "metadata": {},
   "outputs": [],
   "source": [
    "freq_list,eig_val_list,stiff_list = [[] for i in range(15)],[[] for i in range(15)],[[] for i in range(15)]\n",
    "\n",
    "for i in range(len(temp_)):\n",
    "    n = 0\n",
    "    for j in range(4,19):\n",
    "        freq_list[n].append(temp_[i][j][1])\n",
    "        eig_val_list[n].append(temp_[i][j][2])\n",
    "        stiff_list[n].append(temp_[i][j][3])\n",
    "        n+=1"
   ]
  },
  {
   "cell_type": "markdown",
   "metadata": {},
   "source": [
    "## Pandas 데이터 프레임 만들기 \n",
    "ㅇ 데이터 프레임을 만들어 정리한 리스트를 넣는 과정입니다"
   ]
  },
  {
   "cell_type": "code",
   "execution_count": null,
   "metadata": {},
   "outputs": [],
   "source": [
    "# 키로 사용할 이름 생성하기\n",
    "freq_names,eig_val_names,stiff_names = ['freq_'+str(i) for i in range(15)], ['eig_val_'+str(i) for i in range(15)], ['stiff_'+str(i) for i in range(15)]"
   ]
  },
  {
   "cell_type": "code",
   "execution_count": null,
   "metadata": {},
   "outputs": [],
   "source": [
    "def dict_gen(name_list,contents_list,count):\n",
    "    return {name_list[i]:contents_list[i] for i in range(count)}\n",
    "\n",
    "n = {\"name\":name}\n",
    "v = {\"volume\":volume}\n",
    "m = {\"mass\":mass}\n",
    "f = dict_gen(freq_names,freq_list,15)\n",
    "e = dict_gen(eig_val_names,eig_val_list,15)\n",
    "s = dict_gen(stiff_names,stiff_list,15)\n",
    "\n",
    "data = {**n, **v, **m,**f,**e,**s} \n",
    "#딕셔너리 사전 합치기\n",
    "\n",
    "df = pd.DataFrame(data)\n",
    "#저장\n",
    "df.to_csv(dst_csv+\"gd_out_out.csv\", mode='w')\n",
    "\n",
    "#df 키 확인 \n",
    "print(df.columns)\n",
    "\n",
    "#df 접근\n",
    "df[\"freq_0\"].values"
   ]
  },
  {
   "cell_type": "markdown",
   "metadata": {},
   "source": [
    "## 2D 이미지 라벨링하기 \n",
    "ㅇ 2D 이미지 파일을 불러와서 라벨링 합니다. 이작업을 할때 파일 순서를 주의해서 작업해야합니다. (저는 index 기능을 이용해서 오름차순으로 불러와서 라벨링 할 것입니다.)\n",
    "\n",
    "* Floating point : 소수점 2번째 자리에서 반올림\n",
    "\n",
    "* 라벨링: gd_이름_x_x_x "
   ]
  },
  {
   "cell_type": "code",
   "execution_count": null,
   "metadata": {
    "scrolled": true
   },
   "outputs": [],
   "source": [
    "n = 0\n",
    "for i in files_num_sorted:\n",
    "    file = files_img[files_img.index('gd_'+str(i)+'.jpg')]\n",
    "    file_split = file[:-4].split('.')\n",
    "    \n",
    "    fr = str(round(float(freq_list[10][n]),2))\n",
    "    ma = str(round(float(mass[n]),2))\n",
    "    vo = str(round(float(volume[n]),2))\n",
    "    ei = str(round(float(eigen_val_list[10][n]),2))\n",
    "    \n",
    "    final_filename =file_split[0]+'_'+fr+'_'+mass[n]+'_'+vo+'_'+ei+'.jpg'\n",
    "    print(final_filename)\n",
    "    #os.rename(src_img+file,src_img+final_filename)\n",
    "    n+=1"
   ]
  },
  {
   "cell_type": "markdown",
   "metadata": {},
   "source": [
    "## 처리에 해당하지 않는 파일 이동 \n",
    "\n",
    "ㅇ 라벨링 하기전에 처리에 해당하지 않는 파일은 이동시킬때 사용합니다."
   ]
  },
  {
   "cell_type": "code",
   "execution_count": null,
   "metadata": {},
   "outputs": [],
   "source": [
    "import os,shutil\n",
    "import numpy as np\n",
    "\n",
    "src_files = os.listdir(src_img)\n",
    "out_files = os.listdir(dst_img)\n",
    "\n",
    "src =[]\n",
    "for i in src_files:\n",
    "    i_split = i[:-4].split('_')\n",
    "    src.append(i_split[1])\n",
    "    \n",
    "# \n",
    "for i in files_num_sorted:\n",
    "    src.remove(str(i))\n",
    "for i in src:\n",
    "    shutil.move(src_img+'gd_'+i+'.jpg',dst_img)   "
   ]
  }
 ],
 "metadata": {
  "celltoolbar": "Slideshow",
  "kernelspec": {
   "display_name": "Python 3",
   "language": "python",
   "name": "python3"
  },
  "language_info": {
   "codemirror_mode": {
    "name": "ipython",
    "version": 3
   },
   "file_extension": ".py",
   "mimetype": "text/x-python",
   "name": "python",
   "nbconvert_exporter": "python",
   "pygments_lexer": "ipython3",
   "version": "3.7.4"
  }
 },
 "nbformat": 4,
 "nbformat_minor": 2
}
